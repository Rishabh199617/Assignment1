{
 "cells": [
  {
   "cell_type": "code",
   "execution_count": 1,
   "id": "0a7190b1-5ef0-43c6-8bd7-efdec5e67890",
   "metadata": {},
   "outputs": [],
   "source": [
    " Ans 1- Class is collection? categorizatio of real world entities . class is used because of its reusability , structured programming. for eg ineuron is a class \n",
    " object is s real world entity of class. for ex ankit is an object in i neuron class.\n"
   ]
  },
  {
   "cell_type": "code",
   "execution_count": 2,
   "id": "7d54a956-0ba0-4a4a-8165-7c326ce84e0f",
   "metadata": {},
   "outputs": [],
   "source": [
    "class ineuron:\n",
    "    def __init__(self, phone_number,email_id , student_id ):\n",
    "        self.phone_number = phone_number\n",
    "        self.email_id = email_id\n",
    "        self.student_id= student_id\n",
    "        \n",
    "    def return_student_details(self):\n",
    "        return self.student_id , self.email_id , self.phone_number\n",
    "        "
   ]
  },
  {
   "cell_type": "code",
   "execution_count": 3,
   "id": "cbc1e95b-91cc-4717-a103-1121dd39caa6",
   "metadata": {},
   "outputs": [],
   "source": [
    "ankit = ineuron (9876000000 , \"ankit@gmail.com\" , 999 )"
   ]
  },
  {
   "cell_type": "code",
   "execution_count": 4,
   "id": "b4a6735d-454f-4965-9089-8804b7f31add",
   "metadata": {},
   "outputs": [
    {
     "data": {
      "text/plain": [
       "9876000000"
      ]
     },
     "execution_count": 4,
     "metadata": {},
     "output_type": "execute_result"
    }
   ],
   "source": [
    "ankit.phone_number"
   ]
  },
  {
   "cell_type": "code",
   "execution_count": 5,
   "id": "d059d045-dd2e-48ef-9e57-847b67637b15",
   "metadata": {},
   "outputs": [
    {
     "data": {
      "text/plain": [
       "999"
      ]
     },
     "execution_count": 5,
     "metadata": {},
     "output_type": "execute_result"
    }
   ],
   "source": [
    "ankit.student_id"
   ]
  },
  {
   "cell_type": "code",
   "execution_count": 6,
   "id": "410e6cd9-2558-4d47-9778-f5849806186d",
   "metadata": {},
   "outputs": [
    {
     "data": {
      "text/plain": [
       "'ankit@gmail.com'"
      ]
     },
     "execution_count": 6,
     "metadata": {},
     "output_type": "execute_result"
    }
   ],
   "source": [
    "ankit.email_id"
   ]
  },
  {
   "cell_type": "code",
   "execution_count": 7,
   "id": "ca7e0154-5940-468d-828f-4e05a0e61fad",
   "metadata": {},
   "outputs": [
    {
     "data": {
      "text/plain": [
       "(999, 'ankit@gmail.com', 9876000000)"
      ]
     },
     "execution_count": 7,
     "metadata": {},
     "output_type": "execute_result"
    }
   ],
   "source": [
    "ankit.return_student_details()"
   ]
  },
  {
   "cell_type": "code",
   "execution_count": null,
   "id": "26b55d1d-0b1f-4632-a1cd-6668d19f5075",
   "metadata": {},
   "outputs": [],
   "source": []
  },
  {
   "cell_type": "code",
   "execution_count": null,
   "id": "c9307d15-7b5c-46e2-b61d-de591425c282",
   "metadata": {},
   "outputs": [],
   "source": [
    "ANS 2= The four pillars of OOPS are Inheritance, Polymorphism, Encapsulation and Abstraction.\n",
    "1.Data abstraction is the most essential function of object-oriented programming in C++. Abstraction means displaying only basic information\n",
    "and hiding the details. Data abstraction refers to providing only necessary information about the data to the outside world, hiding the background\n",
    "info or implementation.\n",
    "\n",
    "2.Encapsulation is defined as wrapping up of data and information under a single unit. In object-oriented programming, Encapsulation is defined as \n",
    "binding together the data and the functions that manipulate them.\n",
    "\n",
    "3.Inheritance is the process in which two classes have a relationship with each other, and objects of one class acquire properties and features of \n",
    "the other class. The class which inherits the features is known as the child class, and the class whose features it inherited is called the \n",
    "parent class.\n",
    "\n",
    "4. The word polymorphism means having many forms. It is the ability to take more than one form. It is a feature that provides a function or an operator\n",
    "with more than one definition. It can be implemented using function overloading, operator overload, function overriding, virtual function."
   ]
  },
  {
   "cell_type": "code",
   "execution_count": null,
   "id": "4d28ed53-87a7-4e51-a6da-180708c9ce80",
   "metadata": {},
   "outputs": [],
   "source": []
  },
  {
   "cell_type": "code",
   "execution_count": 10,
   "id": "c5813c01-be9a-4fdb-9b37-5613df779a84",
   "metadata": {},
   "outputs": [],
   "source": [
    "#ANS 3 - __ init __ function is called a constructer.It is automatically called when a new instance (object) of a class is created. The __init__ method\n",
    "#allows you to initialize the attributes (variables) of an object.\n",
    "\n",
    "class pwskills:\n",
    "    def __init__(self,name,age,):\n",
    "        self.name = name\n",
    "        self.age= age\n"
   ]
  },
  {
   "cell_type": "code",
   "execution_count": 14,
   "id": "15936207-295d-42a5-bd86-5ace78d2a7ea",
   "metadata": {},
   "outputs": [],
   "source": [
    "shubham = pwskills(\"shubhu\",19)"
   ]
  },
  {
   "cell_type": "code",
   "execution_count": 15,
   "id": "56ea5254-0bb1-46dc-ad1c-c4328528a972",
   "metadata": {},
   "outputs": [
    {
     "data": {
      "text/plain": [
       "19"
      ]
     },
     "execution_count": 15,
     "metadata": {},
     "output_type": "execute_result"
    }
   ],
   "source": [
    "shubham.age"
   ]
  },
  {
   "cell_type": "code",
   "execution_count": 16,
   "id": "1ce5e760-931b-425a-b801-b0dd88b1f4bf",
   "metadata": {},
   "outputs": [
    {
     "data": {
      "text/plain": [
       "'shubhu'"
      ]
     },
     "execution_count": 16,
     "metadata": {},
     "output_type": "execute_result"
    }
   ],
   "source": [
    "shubham.name"
   ]
  },
  {
   "cell_type": "code",
   "execution_count": null,
   "id": "366a662c-2957-4047-9237-ec5fc03ed21c",
   "metadata": {},
   "outputs": [],
   "source": []
  },
  {
   "cell_type": "code",
   "execution_count": 18,
   "id": "0606e5d6-926d-4789-aa7b-c824659209a8",
   "metadata": {},
   "outputs": [],
   "source": [
    "ans 4-Self method, a default parameter, named 'self' is always passed in its argument. This self represents the object of the class itself"
   ]
  },
  {
   "cell_type": "code",
   "execution_count": null,
   "id": "b9a686e1-966b-452e-8bfb-f51a1dcacbff",
   "metadata": {},
   "outputs": [],
   "source": []
  },
  {
   "cell_type": "code",
   "execution_count": null,
   "id": "9fe42cb2-0d1d-4730-8ed6-fbe15ba4085b",
   "metadata": {},
   "outputs": [],
   "source": [
    "##Ans 5- Inheritance is the process in which two classes have a relationship with each other, and objects of one class acquire properties and features of \n",
    "#the other class. The class which inherits the features is known as the child class, and the class whose features it inherited is called the \n",
    "parent class.\n",
    "eg\n",
    "class Person:\n",
    "  def __init__(self, fname, lname):\n",
    "    self.firstname = fname\n",
    "    self.lastname = lname\n",
    "\n",
    "  def printname(self):\n",
    "    print(self.firstname, self.lastname)\n",
    "\n",
    "#Use the Person class to create an object, and then execute the printname method:\n",
    "\n",
    "x = Person(\"John\", \"Doe\")\n",
    "x.printname()"
   ]
  }
 ],
 "metadata": {
  "kernelspec": {
   "display_name": "Python 3 (ipykernel)",
   "language": "python",
   "name": "python3"
  },
  "language_info": {
   "codemirror_mode": {
    "name": "ipython",
    "version": 3
   },
   "file_extension": ".py",
   "mimetype": "text/x-python",
   "name": "python",
   "nbconvert_exporter": "python",
   "pygments_lexer": "ipython3",
   "version": "3.10.8"
  }
 },
 "nbformat": 4,
 "nbformat_minor": 5
}
