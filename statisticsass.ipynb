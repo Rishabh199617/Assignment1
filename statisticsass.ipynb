{
 "cells": [
  {
   "cell_type": "code",
   "execution_count": 5,
   "id": "d37b73dd-3202-4ed1-a9fc-81f8b67655ae",
   "metadata": {},
   "outputs": [
    {
     "data": {
      "text/plain": [
       "'Q1. Statistics is the science of collecting , organizing and analyzing data . Data is facts or pieces of information \\nfor eg Height of Students,Weight of students'"
      ]
     },
     "execution_count": 5,
     "metadata": {},
     "output_type": "execute_result"
    }
   ],
   "source": [
    "'''Q1. Statistics is the science of collecting , organizing and analyzing data . Data is facts or pieces of information \n",
    "for eg Height of Students,Weight of students''' "
   ]
  },
  {
   "cell_type": "code",
   "execution_count": 1,
   "id": "b79b2d97-d37e-4ff2-b0e3-872b8fd1bbdc",
   "metadata": {},
   "outputs": [
    {
     "data": {
      "text/plain": [
       "'Q2. There are two types of Statistics - Descriptive Statistics and Inferential Statistics\\n1.Descriptive Statistics - It consists of organizing and summarizing data. The methods are as follows:-\\n  1. Measurement of Central Tendency ( Mean , Median and mode)\\n  2. Measure of Dispersion ( Standard deviation, Variance )\\n  3. Different types of distribution of data ( histogram ,pdf,pmf)\\n    T\\n2. Inferential statistics - It consist of using data you have measured to form conclusion. The methods are as follows:\\n  1.Z test\\n  2.T test\\n  3.CHI Square\\nEg - Lets say there are 20 statistics classes at your university and you have collected the heights of the  students\\n    Heights are 160cm ,150cm ,170cm,260cm , 270cm,200cm, 135 cm, 190cm\\n    \\nEg of Descriptive Statistics- Q-What is the average height of entire classroom - 160+150+170+260+270+200+135+190/8\\n\\nEg of Inferential Staticstics- Q- Are the heights of students in classroom is similar to what you expect in entire college\\n   Height of Students - Sample data\\n   Entire College - Population data'"
      ]
     },
     "execution_count": 1,
     "metadata": {},
     "output_type": "execute_result"
    }
   ],
   "source": [
    "'''Q2. There are two types of Statistics - Descriptive Statistics and Inferential Statistics\n",
    "1.Descriptive Statistics - It consists of organizing and summarizing data. The methods are as follows:-\n",
    "  1. Measurement of Central Tendency ( Mean , Median and mode)\n",
    "  2. Measure of Dispersion ( Standard deviation, Variance )\n",
    "  3. Different types of distribution of data ( histogram ,pdf,pmf)\n",
    "    T\n",
    "2. Inferential statistics - It consist of using data you have measured to form conclusion. The methods are as follows:\n",
    "  1.Z test\n",
    "  2.T test\n",
    "  3.CHI Square\n",
    "Eg - Lets say there are 20 statistics classes at your university and you have collected the heights of the  students\n",
    "    Heights are 160cm ,150cm ,170cm,260cm , 270cm,200cm, 135 cm, 190cm\n",
    "    \n",
    "Eg of Descriptive Statistics- Q-What is the average height of entire classroom - 160+150+170+260+270+200+135+190/8\n",
    "\n",
    "Eg of Inferential Staticstics- Q- Are the heights of students in classroom is similar to what you expect in entire college\n",
    "   Height of Students - Sample data\n",
    "   Entire College - Population data'''"
   ]
  },
  {
   "cell_type": "code",
   "execution_count": null,
   "id": "93eae026-257d-4c9d-a663-77db459cceb8",
   "metadata": {},
   "outputs": [],
   "source": [
    "'''Q3 Data are of two types- Qualitative and Quantitative\n",
    "1. Quantitative is for numerical values .We can perform addition, mutiplication,division and substraction. It\n",
    "is further divided into two types i.e Discrete and Continuous.\n",
    "   Discrete variable is a specific whole number. Eg number of Bank Accounts(1,2,3) . Number of children in a family.\n",
    "   Continuous variable can have any value.For eg height(71.1),weight,speed \n",
    "2. Qualitative - It is also called Categorical variable.It is divided into categories. It is further divided into\n",
    "   nominal and Ordinal data.\n",
    "   Nominal Data - It cannot be ranked or no rank can be assigned.Eg Gender(male,female) , blood group , pincode.\n",
    "   Ordinal Data - Ranks are assigned in this data type. eg Customer feedback (good>better>bad)'''"
   ]
  },
  {
   "cell_type": "code",
   "execution_count": null,
   "id": "e6c7bc8b-c618-4103-a562-8f9216a3f1b9",
   "metadata": {},
   "outputs": [],
   "source": [
    "'''4.1.Qualatative-Ordinal Data\n",
    "     2.Qualatative-Nominal Data\n",
    "     3.Quantative -Continuous Data\n",
    "     4.Quantative -Discrete Data'''"
   ]
  },
  {
   "cell_type": "code",
   "execution_count": null,
   "id": "5ce6b2f1-9004-4875-bf73-f46928d7213a",
   "metadata": {},
   "outputs": [],
   "source": [
    "\"\"\"5. Scale of measurement :\n",
    "   1.Nominal Scale data\n",
    "   2.Ordinal Scale data\n",
    "   3.Interval Scale data\n",
    "   4.Ratio Scale data\n",
    "\n",
    "1. Nominal Scale Data\n",
    "  1. Qualitative/Categorical Data\n",
    "  2. Eg Gender, Colour,labels\n",
    "  3. Order does not matter .for eg favourite colour - red-5, blue-3, Orange-2\n",
    "    \n",
    "2. Ordinal Scale Data\n",
    "  1.Ranking is important\n",
    "  2.Order matter. For eg 1.Best 2.Good 3.Bad\n",
    "  3.Difference cannot be measured. for eg Race rank 1st,2nd 3rd .\n",
    "            \n",
    "3. Interval Scale Data\n",
    "  1.The order matter\n",
    "  2. Difference cannot be measured 60-30=30\n",
    "  3. Ratio cannot be measured \n",
    "  4. No zero starting point. For eg -15f\n",
    "    for eg temp variable 30F, 60F,90F , 120F\n",
    "\n",
    "4. Ratio Scale Data\n",
    "  1. The order matter.\n",
    "  2. Difference can be measured.\n",
    "  3. Contains a 0 starting point .\n",
    "    for eg 90,300,45,50,60,100 \"\"\"\n"
   ]
  },
  {
   "cell_type": "code",
   "execution_count": null,
   "id": "541f3589-79c8-4cc3-a91c-aadd130bbf4c",
   "metadata": {},
   "outputs": [],
   "source": [
    "'''Q6. Understanding the level of measurement is crucial in data analysis because it determines the types of statistical analyses that can be appropriately applied to the data. Different levels of measurement (nominal, ordinal, interval, and ratio) have distinct characteristics that influence the types of operations and analyses that can be performed on the data.\n",
    "\n",
    "For example, consider a study examining customer satisfaction with a product, where respondents rate their satisfaction on a scale from 1 to 5, with 1 being \"very dissatisfied\" and 5 being \"very satisfied.\"'''"
   ]
  },
  {
   "cell_type": "code",
   "execution_count": null,
   "id": "ca013575-01d9-46e3-a818-0cca618f6e5c",
   "metadata": {},
   "outputs": [],
   "source": [
    "'''Q7. 1. Nominal Scale Data\n",
    "  1. Qualitative/Categorical Data\n",
    "  2. Eg Gender, Colour,labels\n",
    "  3. Order does not matter .for eg favourite colour - red-5, blue-3, Orange-2\n",
    "    \n",
    "2. Ordinal Scale Data\n",
    "  1.Ranking is important\n",
    "  2.Order matter. For eg 1.Best 2.Good 3.Bad\n",
    "  3.Difference cannot be measured. for eg Race rank 1st,2nd 3rd '''"
   ]
  },
  {
   "cell_type": "markdown",
   "id": "3dc483a4-b275-467c-8841-bd17d143b309",
   "metadata": {},
   "source": [
    "'''Q8-In data science, especially for visualizing statistical distributions and variability in data, a common plot used to display data in terms of range is a histogram.\n",
    "\n",
    "A histogram is a graphical representation of the distribution of numerical data. It consists of a series of adja0cent rectangles, or bins, each representing a specific range of values. The height of each bin corresponds to the frequency or relative frequency of data points falling within that range.\n",
    "\n",
    "By plotting the frequency distribution of data using a histogram, you can visually observe the range of values in the dataset, as well as the frequency or density of observations within each range. This allows for easy identification of patterns, central tendency, a'''Q8-nd spread of the data. \n",
    "Additionally, histograms are useful for identifying potential outliers and understanding the shape of the distribution, whether it is symmetric, skewed, or multimodal.'''\n",
    "\n",
    "\n",
    "\n",
    "\n"
   ]
  },
  {
   "cell_type": "code",
   "execution_count": null,
   "id": "fc2743bf-0194-4c44-89b3-57e67a33f60e",
   "metadata": {},
   "outputs": [],
   "source": [
    "'''Q9. There are two types of Statistics - Descriptive Statistics and Inferential Statistics\n",
    "1.Descriptive Statistics - It consists of organizing and summarizing data. The methods are as follows:-\n",
    "  1. Measurement of Central Tendency ( Mean , Median and mode)\n",
    "  2. Measure of Dispersion ( Standard deviation, Variance )\n",
    "  3. Different types of distribution of data ( histogram ,pdf,pmf)\n",
    "    T\n",
    "2. Inferential statistics - It consist of using data you have measured to form conclusion. The methods are as follows:\n",
    "  1.Z test\n",
    "  2.T test\n",
    "  3.CHI Square\n",
    "Eg - Lets say there are 20 statistics classes at your university and you have collected the heights of the  students\n",
    "    Heights are 160cm ,150cm ,170cm,260cm , 270cm,200cm, 135 cm, 190cm\n",
    "    \n",
    "Eg of Descriptive Statistics- Q-What is the average height of entire classroom - 160+150+170+260+270+200+135+190/8\n",
    "\n",
    "Eg of Inferential Staticstics- Q- Are the heights of students in classroom is similar to what you expect in entire college\n",
    "   Height of Students - Sample data\n",
    "   Entire College - Population data'''"
   ]
  },
  {
   "cell_type": "code",
   "execution_count": null,
   "id": "28321686-0ad3-4666-8577-fbc613a9c47f",
   "metadata": {},
   "outputs": [],
   "source": [
    "'''Q10- Common measures of central tendency:\n",
    "\n",
    "Mean: The mean, often referred to as the average, is calculated by summing all values in a dataset and dividing by the total number of values. It represents the \"center\" of the data. The mean is sensitive to outliers; extreme values can significantly affect its value.\n",
    "\n",
    "Median: The median is the middle value of a dataset when it is arranged in ascending or descending order. If there is an even number of observations, the median is the average of the two middle values. Unlike the mean, the median is less affected by extreme values and is a better measure of central tendency for skewed distributions.\n",
    "\n",
    "Mode: The mode is the value that appears most frequently in a dataset. A dataset can have one mode (unimodal), multiple modes (multimodal), or no mode if all values are unique. The mode is useful for categorical or discrete data and can provide insights into the most common value or category.\n",
    "\n",
    "Common measures of variability:\n",
    "\n",
    "Range: The range is the difference between the maximum and minimum values in a dataset. It provides a simple measure of the spread of the data but is sensitive to outliers.\n",
    "\n",
    "Variance: Variance measures the average squared deviation of each data point from the mean. It provides a more comprehensive measure of variability but is sensitive to the units of measurement.\n",
    "\n",
    "Standard Deviation: The standard deviation is the square root of the variance. It measures the average distance of data points from the mean and provides a measure of dispersion around the mean. Like variance, it is sensitive to the units of measurement but is often preferred due to being in the same units as the original data.\n",
    "\n",
    "These measures collectively provide insights into the central tendency and variability of a dataset. The choice of measure depends on the nature of the data and the specific characteristics of interest. For example, if the dataset is symmetric and normally distributed, the mean and standard deviation may be appropriate measures. If the dataset is skewed or contains outliers, the median and interquartile range might be more suitable.'''"
   ]
  }
 ],
 "metadata": {
  "kernelspec": {
   "display_name": "Python 3 (ipykernel)",
   "language": "python",
   "name": "python3"
  },
  "language_info": {
   "codemirror_mode": {
    "name": "ipython",
    "version": 3
   },
   "file_extension": ".py",
   "mimetype": "text/x-python",
   "name": "python",
   "nbconvert_exporter": "python",
   "pygments_lexer": "ipython3",
   "version": "3.10.8"
  }
 },
 "nbformat": 4,
 "nbformat_minor": 5
}
