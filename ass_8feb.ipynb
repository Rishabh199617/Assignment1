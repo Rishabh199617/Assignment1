{
 "cells": [
  {
   "cell_type": "code",
   "execution_count": 2,
   "id": "12c35af1-216a-4c55-9d9e-2182fad61ffc",
   "metadata": {},
   "outputs": [],
   "source": [
    "ans1 - Abstraction is used to hide the internal functionality of the function from the users. The users only interact with the basic \n",
    "implementation of the function, but inner working is hidden. User is familiar with that \"what function does\" but they don't know \n",
    "\"how it does.\""
   ]
  },
  {
   "cell_type": "code",
   "execution_count": 3,
   "id": "aa95ddbc-bd1f-4b9d-87d5-9940009fb741",
   "metadata": {},
   "outputs": [],
   "source": [
    "#for eg\n",
    "import abc\n",
    "class datascience_masters:\n",
    "    \n",
    "    @abc.abstractmethod\n",
    "    def student_details(self):\n",
    "        pass\n",
    "    \n",
    "    @abc.abstractmethod\n",
    "    def student_age(self):\n",
    "        pass\n",
    "    \n",
    "    @abc.abstractmethod\n",
    "    def student_education(self):\n",
    "        pass"
   ]
  },
  {
   "cell_type": "code",
   "execution_count": 4,
   "id": "0d916b5b-b526-41eb-b4f2-ecd567be0b7d",
   "metadata": {},
   "outputs": [],
   "source": [
    "class python:\n",
    "    \n",
    "    def student_age(self):\n",
    "        return \"this method is to show the age of python students\"\n",
    "\n",
    "    def student_education(self):\n",
    "        return \"this method is to show educational qualification of student\""
   ]
  },
  {
   "cell_type": "code",
   "execution_count": 5,
   "id": "b0528b57-faf8-47e7-a1d6-08f447df9542",
   "metadata": {},
   "outputs": [],
   "source": [
    "class statistics:\n",
    "    \n",
    "    def students_education(self):\n",
    "        return \" this method is to see the attendance of statistics \"\n",
    "    \n",
    "    def students_details(self):\n",
    "        return \" this method is to get the details of students\"\n",
    "    "
   ]
  },
  {
   "cell_type": "code",
   "execution_count": 6,
   "id": "5fe02841-722e-4f74-80af-83807e7a40d7",
   "metadata": {},
   "outputs": [],
   "source": [
    "p =python()"
   ]
  },
  {
   "cell_type": "code",
   "execution_count": 7,
   "id": "2eb14206-2e70-47a8-819e-a1be7112d3fc",
   "metadata": {},
   "outputs": [],
   "source": [
    "s = statistics()"
   ]
  },
  {
   "cell_type": "code",
   "execution_count": 8,
   "id": "7b7bbf2b-ede0-4a03-bddf-b93a14e62d25",
   "metadata": {},
   "outputs": [
    {
     "data": {
      "text/plain": [
       "'this method is to show the age of python students'"
      ]
     },
     "execution_count": 8,
     "metadata": {},
     "output_type": "execute_result"
    }
   ],
   "source": [
    "p.student_age()"
   ]
  },
  {
   "cell_type": "code",
   "execution_count": 10,
   "id": "7ac3ffb6-1298-449a-ac02-1a7421f15eb3",
   "metadata": {},
   "outputs": [
    {
     "data": {
      "text/plain": [
       "' this method is to see the attendance of statistics '"
      ]
     },
     "execution_count": 10,
     "metadata": {},
     "output_type": "execute_result"
    }
   ],
   "source": [
    "s.students_education()"
   ]
  },
  {
   "cell_type": "code",
   "execution_count": 11,
   "id": "0539cf7a-cdd8-412c-8937-971f810ab136",
   "metadata": {},
   "outputs": [
    {
     "data": {
      "text/plain": [
       "' this method is to get the details of students'"
      ]
     },
     "execution_count": 11,
     "metadata": {},
     "output_type": "execute_result"
    }
   ],
   "source": [
    "s.students_details()"
   ]
  },
  {
   "cell_type": "code",
   "execution_count": null,
   "id": "9bae7094-9b90-49a6-b1ea-d319b0d410c2",
   "metadata": {},
   "outputs": [],
   "source": []
  },
  {
   "cell_type": "code",
   "execution_count": 28,
   "id": "58cf0b07-e604-4516-8873-8ae8a1d50786",
   "metadata": {},
   "outputs": [],
   "source": [
    "#Ans 2- 135\n",
    "\n",
    "#Encapsulation hides variables or some implementation that may be changed so often in a class to prevent outsiders access it directly.\n",
    "#They must access it via getter and setter methods.\n",
    "\n",
    "class bike:\n",
    "    def __init__(self,model,year,make,speed):\n",
    "        \n",
    "        self.__model = model\n",
    "        self.__year = year\n",
    "        self.__make = make\n",
    "        self.__speed = speed\n",
    "        \n",
    "    def set_speed(self,speed):\n",
    "        self.__speed = 0 if speed <0 else speed\n",
    "        \n",
    "    def get_speed(self):\n",
    "        return self.__speed "
   ]
  },
  {
   "cell_type": "code",
   "execution_count": 29,
   "id": "4d1b77d8-b86a-4351-b4fa-2a2e5242e2a7",
   "metadata": {},
   "outputs": [],
   "source": [
    "b= bike ( \"splendor\",2018,\"hero\",50)"
   ]
  },
  {
   "cell_type": "code",
   "execution_count": 30,
   "id": "d612c6ce-3594-4c41-85fd-82ac07fbb596",
   "metadata": {},
   "outputs": [
    {
     "data": {
      "text/plain": [
       "2018"
      ]
     },
     "execution_count": 30,
     "metadata": {},
     "output_type": "execute_result"
    }
   ],
   "source": [
    "b._bike__year"
   ]
  },
  {
   "cell_type": "code",
   "execution_count": 18,
   "id": "0644b10e-241f-48cf-abc6-9dd60a23c9d7",
   "metadata": {},
   "outputs": [
    {
     "data": {
      "text/plain": [
       "'hero'"
      ]
     },
     "execution_count": 18,
     "metadata": {},
     "output_type": "execute_result"
    }
   ],
   "source": [
    "b._bike__make"
   ]
  },
  {
   "cell_type": "code",
   "execution_count": 31,
   "id": "cd40124f-9077-4ffb-a4f5-cc56b4d071b4",
   "metadata": {},
   "outputs": [],
   "source": [
    "b.set_speed(90)"
   ]
  },
  {
   "cell_type": "code",
   "execution_count": 32,
   "id": "60eb52ed-0bb7-4a09-b78b-ebf337182624",
   "metadata": {},
   "outputs": [
    {
     "data": {
      "text/plain": [
       "90"
      ]
     },
     "execution_count": 32,
     "metadata": {},
     "output_type": "execute_result"
    }
   ],
   "source": [
    "b.get_speed()"
   ]
  },
  {
   "cell_type": "code",
   "execution_count": 33,
   "id": "77355bc2-cc46-4d0c-b969-e9475b99b390",
   "metadata": {},
   "outputs": [],
   "source": [
    "b.set_speed(-90)"
   ]
  },
  {
   "cell_type": "code",
   "execution_count": 35,
   "id": "8cbb6def-b18f-4ae3-a8c7-759ffd178f9c",
   "metadata": {},
   "outputs": [
    {
     "data": {
      "text/plain": [
       "0"
      ]
     },
     "execution_count": 35,
     "metadata": {},
     "output_type": "execute_result"
    }
   ],
   "source": [
    "b.get_speed()"
   ]
  },
  {
   "cell_type": "code",
   "execution_count": 36,
   "id": "97f14c08-7570-4cea-8adc-af8f87833caf",
   "metadata": {},
   "outputs": [],
   "source": [
    "abstraction is used to hide something too, but in a higher degree (class, interface). Clients who use an abstract class (or interface) do\n",
    "not care about what it was, they just need to know what it can do."
   ]
  },
  {
   "cell_type": "code",
   "execution_count": null,
   "id": "d124c6c2-32ce-4f9e-9ba9-b2d8803415b4",
   "metadata": {},
   "outputs": [],
   "source": []
  },
  {
   "cell_type": "code",
   "execution_count": null,
   "id": "407a9bf1-997e-4001-bbcb-06ab049df9d5",
   "metadata": {},
   "outputs": [],
   "source": [
    "ans 3-The main purpose of the ABC module is to enable the creation of abstract classes and interfaces. Abstract classes can define a set of methods that must be implemented by their subclasses. This concept is crucial in enforcing a certain structure or behavior in classes that share common characteristics.\n",
    "\n",
    "Here are some key uses of the ABC module:\n",
    "\n",
    "1.Defining Abstract Base Classes: The ABC module allows developers to create abstract classes using the ABC base class or the @abstractmethod decorator. Abstract methods are declared without implementation, and the responsibility of providing a concrete implementation lies with the subclass.\n",
    "\n",
    "2.Interface Definition: Python doesn't have a built-in \"interface\" keyword like some other programming languages. However, abstract classes can be used to define interfaces implicitly. By creating an abstract base class with abstract methods, you create a contract that subclasses must adhere to, effectively defining an interface.\n",
    "\n",
    "3.Polymorphism and Duck Typing: Abstract base classes promote the use of polymorphism in Python. If multiple classes inherit from the same abstract base class, they can be used interchangeably, as long as they implement the required abstract methods.\n",
    "\n",
    "4.Enforcing Structure and Common Behavior: By defining abstract methods, you ensure that certain behavior or methods are present in all subclasses, helping to maintain a consistent structure and preventing errors caused by missing or incorrect implementations.\n",
    "\n",
    "\n",
    "\n"
   ]
  },
  {
   "cell_type": "code",
   "execution_count": null,
   "id": "6a912bd2-94dc-4f21-ad73-53c01a903469",
   "metadata": {},
   "outputs": [],
   "source": [
    "\n"
   ]
  },
  {
   "cell_type": "code",
   "execution_count": 37,
   "id": "6f7dc2d0-252d-404e-bae6-ec8bad6deab1",
   "metadata": {},
   "outputs": [
    {
     "ename": "SyntaxError",
     "evalue": "invalid syntax (2403885519.py, line 1)",
     "output_type": "error",
     "traceback": [
      "\u001b[0;36m  Cell \u001b[0;32mIn[37], line 1\u001b[0;36m\u001b[0m\n\u001b[0;31m    ans 4 Data abstraction is a concept in object-oriented programming that allows you to hide the implementation details of an object and only expose the essential features or properties to the outside world. It is one of the fundamental principles of object-oriented design and encourages the creation of clean and modular code.\u001b[0m\n\u001b[0m        ^\u001b[0m\n\u001b[0;31mSyntaxError\u001b[0m\u001b[0;31m:\u001b[0m invalid syntax\n"
     ]
    }
   ],
   "source": [
    "ans 4 Data abstraction is a concept in object-oriented programming that allows you to hide the implementation details of an object and only expose the essential features or properties to the outside world. It is one of the fundamental principles of object-oriented design and encourages the creation of clean and modular code.\n",
    "\n",
    "In Python, you can achieve data abstraction using classes and access control mechanisms. Here are the steps to achieve data abstraction:\n",
    "\n",
    "Define a Class: Start by defining a class that represents the abstraction you want to create. The class should include the necessary attributes and methods to encapsulate the data and behavior of the abstraction.\n",
    "\n",
    "Access Control: In Python, there is no strict enforcement of access control like some other programming languages. However, you can use naming conventions and documentation to indicate which attributes and methods are meant for internal use (private) and which are intended to be accessed from outside the class (public).\n",
    "\n",
    "Use a single underscore prefix (_) for attributes and methods that are considered internal but are still accessible.\n",
    "Use a double underscore prefix (__) for attributes and methods that should be treated as private and not accessed directly from outside the class. However, note that Python name-mangling will change the names of these attributes to make them harder to access but not impossible.\n",
    "Provide Public Interfaces: Define public methods (those without leading underscores) that expose the essential features of the abstraction to the outside world. These methods act as the interface to interact with the object, providing a clear and well-defined way to use the object."
   ]
  },
  {
   "cell_type": "code",
   "execution_count": 38,
   "id": "a1b4a0ab-49e9-46cb-b6d8-540381d6f0bf",
   "metadata": {},
   "outputs": [],
   "source": [
    "#ans5 \n",
    "import abc\n",
    "class ineuron:\n",
    "    \n",
    "    @abc.abstractmethod\n",
    "    def student_details(self):\n",
    "        pass\n",
    "    \n",
    "    @abc.abstractmethod\n",
    "    def student_age(self):\n",
    "        pass\n",
    "    \n",
    "    @abc.abstractmethod\n",
    "    def student_education(self):\n",
    "        pass\n",
    "    "
   ]
  },
  {
   "cell_type": "code",
   "execution_count": 43,
   "id": "bd1941fa-578b-41c9-8dd5-329b743daf94",
   "metadata": {},
   "outputs": [],
   "source": [
    "class data_science:\n",
    "    \n",
    "    def student_age(self):\n",
    "        return\" this method shows the details of age of student of data science\"\n",
    "    \n",
    "    def student_details(self):\n",
    "        return \"this method shows the details of particular student\"\n",
    "    "
   ]
  },
  {
   "cell_type": "code",
   "execution_count": 41,
   "id": "811cb516-6299-4fa8-b976-c4403d39fc22",
   "metadata": {},
   "outputs": [],
   "source": [
    "class machine_learning:\n",
    "    \n",
    "    def student_education(self):\n",
    "        return \" this method shows the education of a student\"\n",
    "    \n",
    "    def student_age(self):\n",
    "        return\" this method tells about the age of student\""
   ]
  },
  {
   "cell_type": "code",
   "execution_count": 44,
   "id": "e7d61434-0da6-4276-9dcc-7875b7440b06",
   "metadata": {},
   "outputs": [],
   "source": [
    "d = data_science()"
   ]
  },
  {
   "cell_type": "code",
   "execution_count": 45,
   "id": "d6d62d29-5d4a-4ff3-a4c2-b219dc43b242",
   "metadata": {},
   "outputs": [],
   "source": [
    "m = machine_learning()"
   ]
  },
  {
   "cell_type": "code",
   "execution_count": 46,
   "id": "b6a52980-62c5-4325-9ebe-876c40f5a34d",
   "metadata": {},
   "outputs": [
    {
     "data": {
      "text/plain": [
       "'this method shows the details of particular student'"
      ]
     },
     "execution_count": 46,
     "metadata": {},
     "output_type": "execute_result"
    }
   ],
   "source": [
    "d.student_details()"
   ]
  },
  {
   "cell_type": "code",
   "execution_count": 47,
   "id": "448a8bb8-2091-4d32-bdd2-af22a9120a4d",
   "metadata": {},
   "outputs": [
    {
     "data": {
      "text/plain": [
       "' this method tells about the age of student'"
      ]
     },
     "execution_count": 47,
     "metadata": {},
     "output_type": "execute_result"
    }
   ],
   "source": [
    "m.student_age()"
   ]
  },
  {
   "cell_type": "code",
   "execution_count": null,
   "id": "ae95283b-fae6-4be8-aa4d-3247504c591f",
   "metadata": {},
   "outputs": [],
   "source": []
  }
 ],
 "metadata": {
  "kernelspec": {
   "display_name": "Python 3 (ipykernel)",
   "language": "python",
   "name": "python3"
  },
  "language_info": {
   "codemirror_mode": {
    "name": "ipython",
    "version": 3
   },
   "file_extension": ".py",
   "mimetype": "text/x-python",
   "name": "python",
   "nbconvert_exporter": "python",
   "pygments_lexer": "ipython3",
   "version": "3.10.8"
  }
 },
 "nbformat": 4,
 "nbformat_minor": 5
}
